{
 "cells": [
  {
   "cell_type": "markdown",
   "id": "8ca5c670-8a64-4904-9d0a-4871d7ef3c44",
   "metadata": {},
   "source": [
    "# Analyze A/B Test Results"
   ]
  },
  {
   "cell_type": "markdown",
   "id": "8417ac1e-70f9-4cb9-9615-06969f1dccd2",
   "metadata": {},
   "source": [
    "A/B testing is a powerful tool for data-driven business decisions. If you've finished running an A/B test with two variants, you can use this template to analyze and visualize your results. And of course, to find out if your results are significant 🤞! If you want to learn more about designing A/B tests and the statistics behind them, check out DataCamp's [Customer Analytics and A/B Testing in Python](https://app.datacamp.com/learn/courses/customer-analytics-and-ab-testing-in-python). "
   ]
  },
  {
   "cell_type": "markdown",
   "id": "65f61507",
   "metadata": {},
   "source": [
    "### 1. Loading and checking the data\n",
    "\n",
    "To use this template, your data must have a row for each user who's participated in the test and at least these four columns:\n",
    "- \"uid\": the unique identifier of the user. This column should have no duplicates.\n",
    "- \"date\": the date of the user's visit during the experiment.\n",
    "- \"group\": which of the two variants the user received, e.g., \"Free Trial\"/\"No Free Trial\" or \"Control\"/\"Treatment\".\n",
    "- \"converted\": whether the user converted (0 = no, 1 =  yes), e.g., whether the user signed up for the product or made a purchase.\n",
    "\n",
    "The placeholder dataset in this template is from a 2.5 week long A/B experiment with two groups called \"A\" and \"B\"."
   ]
  },
  {
   "cell_type": "code",
   "execution_count": null,
   "id": "8d32d851",
   "metadata": {},
   "outputs": [],
   "source": [
    "import pandas as pd\n",
    "import numpy as np\n",
    "import scipy as sci\n",
    "import scipy.stats as stats\n",
    "from scipy.stats import norm\n",
    "import matplotlib.pyplot as plt\n",
    "import seaborn as sns\n",
    "\n",
    "sns.set_style(\"whitegrid\")\n",
    "\n",
    "# Load in your results as a dataframe\n",
    "df = pd.read_csv(\"data/ab_test_results.csv\")\n",
    "df.head()"
   ]
  },
  {
   "cell_type": "markdown",
   "id": "60b7fa10",
   "metadata": {},
   "source": [
    "If the following three lines of code don't print out `True`, you will need to clean up your dataset before using the rest of this template. "
   ]
  },
  {
   "cell_type": "code",
   "execution_count": null,
   "id": "89c30577",
   "metadata": {},
   "outputs": [],
   "source": [
    "# Are all values in uid unique?\n",
    "print(df[\"uid\"].is_unique)\n",
    "\n",
    "# Are there only two types of groups?\n",
    "print(df[\"group\"].nunique() == 2)\n",
    "\n",
    "# Are there only 1s & 0s in converted?\n",
    "print((df[\"converted\"].unique() == [0, 1]).all())"
   ]
  },
  {
   "cell_type": "markdown",
   "id": "054c2d75",
   "metadata": {},
   "source": [
    "Now, let's check that the two groups are about the same size:"
   ]
  },
  {
   "cell_type": "code",
   "execution_count": null,
   "id": "8c2254eb",
   "metadata": {},
   "outputs": [],
   "source": [
    "# Print out the percentage of users in each group\n",
    "print(df[\"group\"].value_counts() / df[\"group\"].count() * 100)\n",
    "\n",
    "# Plot the number of users in each group\n",
    "df[\"group\"].value_counts().plot(kind=\"bar\");"
   ]
  },
  {
   "cell_type": "markdown",
   "id": "0bc82bbc",
   "metadata": {},
   "source": [
    "### 2. Visualizing conversion rate over time\n",
    "\n",
    "Below, we plot the daily conversion rate segmented by the two groups. This is helpful to track the progress of the experiment over time and get an initial sense of the test results (but this never replaces a test of statistical significance!)."
   ]
  },
  {
   "cell_type": "code",
   "execution_count": null,
   "id": "997450c1",
   "metadata": {
    "scrolled": true
   },
   "outputs": [],
   "source": [
    "# Calculate the conversion rate by group and date\n",
    "cr_time = df.groupby(by=[\"date\", \"group\"], as_index=False)\n",
    "cr_time = cr_time.agg({\"converted\": [\"count\", \"sum\"]})\n",
    "cr_time[\"conversion_rate\"] = (\n",
    "    cr_time.converted[\"sum\"] / cr_time.converted[\"count\"]\n",
    ") * 100\n",
    "\n",
    "# Plot conversion rate over time segmented by group\n",
    "fig, ax = plt.subplots(figsize=(11, 4.5))\n",
    "sns.lineplot(data=cr_time, x=\"date\", y=\"conversion_rate\", hue=\"group\", palette=\"deep\")\n",
    "plt.xticks(rotation=70)\n",
    "plt.tight_layout()"
   ]
  },
  {
   "cell_type": "markdown",
   "id": "ab1c0217",
   "metadata": {},
   "source": [
    "### 3. Testing and interpreting statistical significance\n",
    "\n",
    "Now it's time to see if the results were significant! To do so, we'll use calculations from chapter four of [Customer Analytics and A/B Testing in Python](https://app.datacamp.com/learn/courses/customer-analytics-and-ab-testing-in-python), which is a useful reference if you want to learn more.\n",
    "\n",
    "To calculate the statistical significance, we need to find each group's size and conversion rate throughout the entire experiment period."
   ]
  },
  {
   "cell_type": "code",
   "execution_count": null,
   "id": "e071389d",
   "metadata": {},
   "outputs": [],
   "source": [
    "# Get names of groups \n",
    "a,b = df.group.unique()\n",
    "\n",
    "# Get the size of each group\n",
    "a_size = df['group'].value_counts()[0]\n",
    "b_size = df['group'].value_counts()[1]\n",
    "\n",
    "# Calculate the conversion rate of each group\n",
    "cr = df.groupby(by=['group'], as_index=False)\n",
    "cr = cr.agg(\n",
    "    {'converted': ['count', 'sum']})\n",
    "cr['conv'] = (cr.converted['sum'] / cr.converted['count'])\n",
    "a_conv = cr[cr.group == a].conv[0]\n",
    "b_conv = cr[cr.group == b].conv[1]\n",
    "\n",
    "# Print the size and conversion rate of each group\n",
    "print(\"Group\", a, \":\", a_size, a_conv) \n",
    "print(\"Group\", b, \":\", b_size, b_conv)"
   ]
  },
  {
   "cell_type": "markdown",
   "id": "30c4b058",
   "metadata": {},
   "source": [
    "Now, we can calculate the p-value and use it to decide if results are significant."
   ]
  },
  {
   "cell_type": "code",
   "execution_count": null,
   "id": "051446df",
   "metadata": {},
   "outputs": [],
   "source": [
    "# Define a function to calculate and interpret the p-value\n",
    "def get_pvalue(con_conv, test_conv, con_size, test_size):\n",
    "    lift = -abs(test_conv - con_conv)\n",
    "    scale_one = con_conv * (1 - con_conv) * (1 / con_size)\n",
    "    scale_two = test_conv * (1 - test_conv) * (1 / test_size)\n",
    "    scale_val = (scale_one + scale_two) ** 0.5\n",
    "    p_value = 2 * stats.norm.cdf(lift, loc=0, scale=scale_val)\n",
    "    if p_value >= 0.05:\n",
    "        msg = \"Not Significant\"\n",
    "    else:\n",
    "        msg = \"Significant Result\"\n",
    "    return p_value, msg\n",
    "\n",
    "\n",
    "# Calculate the p-value of the experiment\n",
    "p_value = get_pvalue(a_conv, b_conv, a_size, b_size)\n",
    "print(\"p-value:\", p_value)"
   ]
  },
  {
   "cell_type": "markdown",
   "id": "63dafb39",
   "metadata": {},
   "source": [
    "We can plot the test and control conversion rates as distributions. Visualizing the overlap or lack thereof helps intuit the distinctness of the conversion rates between the two groups."
   ]
  },
  {
   "cell_type": "code",
   "execution_count": null,
   "id": "b06499f8",
   "metadata": {},
   "outputs": [],
   "source": [
    "# Compute the variance\n",
    "a_var = (1 - a_conv) * a_conv / a_size\n",
    "b_var = (1 - b_conv) * b_conv / b_size\n",
    "\n",
    "# Compute the standard deviations\n",
    "a_sd, b_sd = a_var ** 0.5, b_var ** 0.5\n",
    "\n",
    "# Create the range of x values\n",
    "a_line = np.linspace(a_conv - 3 * a_sd, a_conv + 3 * a_sd, 100)\n",
    "b_line = np.linspace(b_conv - 3 * b_sd, b_conv + 3 * b_sd, 100)\n",
    "\n",
    "# Plot the distribution\n",
    "plt.plot(a_line, norm.pdf(a_line, a_conv, a_sd))\n",
    "plt.plot(b_line, norm.pdf(b_line, b_conv, b_sd))\n",
    "plt.show()"
   ]
  }
 ],
 "metadata": {
  "editor": "DataCamp Workspace",
  "kernelspec": {
   "display_name": "Python 3 (ipykernel)",
   "language": "python",
   "name": "python3"
  },
  "language_info": {
   "codemirror_mode": {
    "name": "ipython",
    "version": 3
   },
   "file_extension": ".py",
   "mimetype": "text/x-python",
   "name": "python",
   "nbconvert_exporter": "python",
   "pygments_lexer": "ipython3",
   "version": "3.8.10"
  },
  "varInspector": {
   "cols": {
    "lenName": 16,
    "lenType": 16,
    "lenVar": 40
   },
   "kernels_config": {
    "python": {
     "delete_cmd_postfix": "",
     "delete_cmd_prefix": "del ",
     "library": "var_list.py",
     "varRefreshCmd": "print(var_dic_list())"
    },
    "r": {
     "delete_cmd_postfix": ") ",
     "delete_cmd_prefix": "rm(",
     "library": "var_list.r",
     "varRefreshCmd": "cat(var_dic_list()) "
    }
   },
   "types_to_exclude": [
    "module",
    "function",
    "builtin_function_or_method",
    "instance",
    "_Feature"
   ],
   "window_display": false
  }
 },
 "nbformat": 4,
 "nbformat_minor": 5
}

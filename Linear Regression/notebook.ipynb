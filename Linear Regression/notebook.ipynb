{
 "cells": [
  {
   "cell_type": "markdown",
   "id": "8ca5c670-8a64-4904-9d0a-4871d7ef3c44",
   "metadata": {},
   "source": [
    "# Make Predictions with Linear Regression"
   ]
  },
  {
   "cell_type": "markdown",
   "id": "8417ac1e-70f9-4cb9-9615-06969f1dccd2",
   "metadata": {},
   "source": [
    "This recipe shows how to perform linear regression on your data. You can either play around using the provided Boston housing data ([source](https://scikit-learn.org/stable/modules/generated/sklearn.datasets.load_boston.html)) or you can load your own data and make the necessary changes in `input_cols` and `output_col`. For the linear regression itself, you will use the `LinearRegression` functionality from the `scikit-learn` package."
   ]
  },
  {
   "cell_type": "code",
   "execution_count": 10,
   "id": "ad6694a6-f064-44a1-aa77-57095fda33e5",
   "metadata": {},
   "outputs": [],
   "source": [
    "# Load packages\n",
    "import numpy as np \n",
    "import pandas as pd \n",
    "from sklearn.model_selection import train_test_split\n",
    "from sklearn.linear_model import LinearRegression\n",
    "from sklearn.metrics import r2_score\n",
    "import matplotlib.pyplot as plt\n",
    "import seaborn as sns\n",
    "sns.set_style(\"darkgrid\", {\"axes.facecolor\": \".9\"})"
   ]
  },
  {
   "cell_type": "code",
   "execution_count": 11,
   "id": "50265658-3ac1-4075-bc11-46a313ddfa40",
   "metadata": {},
   "outputs": [
    {
     "data": {
      "text/html": [
       "<div>\n",
       "<style scoped>\n",
       "    .dataframe tbody tr th:only-of-type {\n",
       "        vertical-align: middle;\n",
       "    }\n",
       "\n",
       "    .dataframe tbody tr th {\n",
       "        vertical-align: top;\n",
       "    }\n",
       "\n",
       "    .dataframe thead th {\n",
       "        text-align: right;\n",
       "    }\n",
       "</style>\n",
       "<table border=\"1\" class=\"dataframe\">\n",
       "  <thead>\n",
       "    <tr style=\"text-align: right;\">\n",
       "      <th></th>\n",
       "      <th>CRIM</th>\n",
       "      <th>ZN</th>\n",
       "      <th>INDUS</th>\n",
       "      <th>CHAS</th>\n",
       "      <th>NOX</th>\n",
       "      <th>RM</th>\n",
       "      <th>AGE</th>\n",
       "      <th>DIS</th>\n",
       "      <th>RAD</th>\n",
       "      <th>TAX</th>\n",
       "      <th>PTRATIO</th>\n",
       "      <th>LSTAT</th>\n",
       "      <th>PRICE</th>\n",
       "    </tr>\n",
       "  </thead>\n",
       "  <tbody>\n",
       "    <tr>\n",
       "      <th>0</th>\n",
       "      <td>0.00632</td>\n",
       "      <td>18.0</td>\n",
       "      <td>2.31</td>\n",
       "      <td>0.0</td>\n",
       "      <td>0.538</td>\n",
       "      <td>6.575</td>\n",
       "      <td>65.2</td>\n",
       "      <td>4.0900</td>\n",
       "      <td>1.0</td>\n",
       "      <td>296.0</td>\n",
       "      <td>15.3</td>\n",
       "      <td>4.98</td>\n",
       "      <td>24.0</td>\n",
       "    </tr>\n",
       "    <tr>\n",
       "      <th>1</th>\n",
       "      <td>0.02731</td>\n",
       "      <td>0.0</td>\n",
       "      <td>7.07</td>\n",
       "      <td>0.0</td>\n",
       "      <td>0.469</td>\n",
       "      <td>6.421</td>\n",
       "      <td>78.9</td>\n",
       "      <td>4.9671</td>\n",
       "      <td>2.0</td>\n",
       "      <td>242.0</td>\n",
       "      <td>17.8</td>\n",
       "      <td>9.14</td>\n",
       "      <td>21.6</td>\n",
       "    </tr>\n",
       "    <tr>\n",
       "      <th>2</th>\n",
       "      <td>0.02729</td>\n",
       "      <td>0.0</td>\n",
       "      <td>7.07</td>\n",
       "      <td>0.0</td>\n",
       "      <td>0.469</td>\n",
       "      <td>7.185</td>\n",
       "      <td>61.1</td>\n",
       "      <td>4.9671</td>\n",
       "      <td>2.0</td>\n",
       "      <td>242.0</td>\n",
       "      <td>17.8</td>\n",
       "      <td>4.03</td>\n",
       "      <td>34.7</td>\n",
       "    </tr>\n",
       "    <tr>\n",
       "      <th>3</th>\n",
       "      <td>0.03237</td>\n",
       "      <td>0.0</td>\n",
       "      <td>2.18</td>\n",
       "      <td>0.0</td>\n",
       "      <td>0.458</td>\n",
       "      <td>6.998</td>\n",
       "      <td>45.8</td>\n",
       "      <td>6.0622</td>\n",
       "      <td>3.0</td>\n",
       "      <td>222.0</td>\n",
       "      <td>18.7</td>\n",
       "      <td>2.94</td>\n",
       "      <td>33.4</td>\n",
       "    </tr>\n",
       "    <tr>\n",
       "      <th>4</th>\n",
       "      <td>0.06905</td>\n",
       "      <td>0.0</td>\n",
       "      <td>2.18</td>\n",
       "      <td>0.0</td>\n",
       "      <td>0.458</td>\n",
       "      <td>7.147</td>\n",
       "      <td>54.2</td>\n",
       "      <td>6.0622</td>\n",
       "      <td>3.0</td>\n",
       "      <td>222.0</td>\n",
       "      <td>18.7</td>\n",
       "      <td>5.33</td>\n",
       "      <td>36.2</td>\n",
       "    </tr>\n",
       "  </tbody>\n",
       "</table>\n",
       "</div>"
      ],
      "text/plain": [
       "      CRIM    ZN  INDUS  CHAS    NOX     RM   AGE     DIS  RAD    TAX  \\\n",
       "0  0.00632  18.0   2.31   0.0  0.538  6.575  65.2  4.0900  1.0  296.0   \n",
       "1  0.02731   0.0   7.07   0.0  0.469  6.421  78.9  4.9671  2.0  242.0   \n",
       "2  0.02729   0.0   7.07   0.0  0.469  7.185  61.1  4.9671  2.0  242.0   \n",
       "3  0.03237   0.0   2.18   0.0  0.458  6.998  45.8  6.0622  3.0  222.0   \n",
       "4  0.06905   0.0   2.18   0.0  0.458  7.147  54.2  6.0622  3.0  222.0   \n",
       "\n",
       "   PTRATIO  LSTAT  PRICE  \n",
       "0     15.3   4.98   24.0  \n",
       "1     17.8   9.14   21.6  \n",
       "2     17.8   4.03   34.7  \n",
       "3     18.7   2.94   33.4  \n",
       "4     18.7   5.33   36.2  "
      ]
     },
     "execution_count": 11,
     "metadata": {},
     "output_type": "execute_result"
    }
   ],
   "source": [
    "# Load data from the csv file\n",
    "df = pd.read_csv(\"housing_data.csv\")\n",
    "df.head()"
   ]
  },
  {
   "cell_type": "code",
   "execution_count": 12,
   "id": "0a157c25-4277-4834-95fd-7ff517f61a9e",
   "metadata": {},
   "outputs": [
    {
     "data": {
      "text/html": [
       "<div>\n",
       "<style scoped>\n",
       "    .dataframe tbody tr th:only-of-type {\n",
       "        vertical-align: middle;\n",
       "    }\n",
       "\n",
       "    .dataframe tbody tr th {\n",
       "        vertical-align: top;\n",
       "    }\n",
       "\n",
       "    .dataframe thead th {\n",
       "        text-align: right;\n",
       "    }\n",
       "</style>\n",
       "<table border=\"1\" class=\"dataframe\">\n",
       "  <thead>\n",
       "    <tr style=\"text-align: right;\">\n",
       "      <th></th>\n",
       "      <th>Explanation</th>\n",
       "    </tr>\n",
       "    <tr>\n",
       "      <th>Variable</th>\n",
       "      <th></th>\n",
       "    </tr>\n",
       "  </thead>\n",
       "  <tbody>\n",
       "    <tr>\n",
       "      <th>CRIM</th>\n",
       "      <td>The crime rate per capita</td>\n",
       "    </tr>\n",
       "    <tr>\n",
       "      <th>ZN</th>\n",
       "      <td>The proportion of residential land zoned for lots over 25000 sq.ft</td>\n",
       "    </tr>\n",
       "    <tr>\n",
       "      <th>INDUS</th>\n",
       "      <td>The proportion of non-retail business acres per town</td>\n",
       "    </tr>\n",
       "    <tr>\n",
       "      <th>CHAS</th>\n",
       "      <td>The Charles River dummy variable (1 if tract bounds river; 0 otherwise)</td>\n",
       "    </tr>\n",
       "    <tr>\n",
       "      <th>NOX</th>\n",
       "      <td>The nitric oxides concentration (parts per 10 million)</td>\n",
       "    </tr>\n",
       "    <tr>\n",
       "      <th>RM</th>\n",
       "      <td>The average number of rooms per dwelling</td>\n",
       "    </tr>\n",
       "    <tr>\n",
       "      <th>AGE</th>\n",
       "      <td>The proportion of owner-occupied units built prior to 1940</td>\n",
       "    </tr>\n",
       "    <tr>\n",
       "      <th>DIS</th>\n",
       "      <td>The weighted distances to five Boston employment centres</td>\n",
       "    </tr>\n",
       "    <tr>\n",
       "      <th>RAD</th>\n",
       "      <td>The index of accessibility to radial highways</td>\n",
       "    </tr>\n",
       "    <tr>\n",
       "      <th>TAX</th>\n",
       "      <td>The full-value property-tax rate per $10000</td>\n",
       "    </tr>\n",
       "    <tr>\n",
       "      <th>PTRATIO</th>\n",
       "      <td>The pupil-teacher ratio by town</td>\n",
       "    </tr>\n",
       "    <tr>\n",
       "      <th>LSTAT</th>\n",
       "      <td>The percentage lower status of the population</td>\n",
       "    </tr>\n",
       "    <tr>\n",
       "      <th>TARGET</th>\n",
       "      <td>The median value of owner-occupied homes (in $1000)</td>\n",
       "    </tr>\n",
       "  </tbody>\n",
       "</table>\n",
       "</div>"
      ],
      "text/plain": [
       "                                                                      Explanation\n",
       "Variable                                                                         \n",
       "CRIM                                                    The crime rate per capita\n",
       "ZN             The proportion of residential land zoned for lots over 25000 sq.ft\n",
       "INDUS                        The proportion of non-retail business acres per town\n",
       "CHAS      The Charles River dummy variable (1 if tract bounds river; 0 otherwise)\n",
       "NOX                        The nitric oxides concentration (parts per 10 million)\n",
       "RM                                       The average number of rooms per dwelling\n",
       "AGE                    The proportion of owner-occupied units built prior to 1940\n",
       "DIS                      The weighted distances to five Boston employment centres\n",
       "RAD                                 The index of accessibility to radial highways\n",
       "TAX                                   The full-value property-tax rate per $10000\n",
       "PTRATIO                                           The pupil-teacher ratio by town\n",
       "LSTAT                               The percentage lower status of the population\n",
       "TARGET                        The median value of owner-occupied homes (in $1000)"
      ]
     },
     "execution_count": 12,
     "metadata": {},
     "output_type": "execute_result"
    }
   ],
   "source": [
    "# Understand the variables\n",
    "pd.options.display.max_colwidth = 100\n",
    "pd.read_csv('variable_explanation.csv', index_col=0)"
   ]
  },
  {
   "cell_type": "code",
   "execution_count": 13,
   "id": "c8079a9b-533f-455b-b474-d2cb22c25903",
   "metadata": {},
   "outputs": [],
   "source": [
    "# Split the data into X and y\n",
    "# You can adapt the input and output columns to fit your own data\n",
    "input_cols = ['CRIM', 'ZN', 'INDUS', 'CHAS', 'NOX', 'RM', 'AGE', 'DIS', 'RAD', 'TAX', 'PTRATIO', 'LSTAT']\n",
    "output_col = ['PRICE']\n",
    "X = df[input_cols]\n",
    "y = df[output_col]\n",
    "\n",
    "# Split the data into training and test data\n",
    "X_train, X_test, y_train, y_test =  train_test_split(X,y,test_size = 0.30, random_state= 44)"
   ]
  },
  {
   "cell_type": "code",
   "execution_count": 14,
   "id": "d5cad12a-fec3-429e-840b-dcd11b41b5c5",
   "metadata": {},
   "outputs": [
    {
     "data": {
      "image/png": "[encoded data removed]",
      "text/plain": [
       "<Figure size 1080x180 with 6 Axes>"
      ]
     },
     "metadata": {},
     "output_type": "display_data"
    },
    {
     "data": {
      "image/png": "[encoded data removed]",
      "text/plain": [
       "<Figure size 1080x180 with 6 Axes>"
      ]
     },
     "metadata": {},
     "output_type": "display_data"
    }
   ],
   "source": [
    "# Make two figures so it is better visualized\n",
    "half = len(input_cols)//2\n",
    "\n",
    "fig1=sns.pairplot(\n",
    "    df,\n",
    "    x_vars=input_cols[:half],\n",
    "    y_vars=output_col\n",
    ")\n",
    "\n",
    "fig2=sns.pairplot(\n",
    "    df,\n",
    "    x_vars=input_cols[half:],\n",
    "    y_vars=output_col\n",
    ")"
   ]
  },
  {
   "cell_type": "code",
   "execution_count": 15,
   "id": "9ac12518-3ee7-49d6-acb6-95e1bd7416eb",
   "metadata": {},
   "outputs": [],
   "source": [
    "# Function to flatten 2D lists so it can be used by plotly\n",
    "def flatten(l):\n",
    "    return [item for sublist in l for item in sublist]\n",
    "\n",
    "# Set up and fit the linear regressor\n",
    "lin_reg = LinearRegression()\n",
    "lin_reg.fit(X_train, y_train)\n",
    "\n",
    "# Flatten the prediction and expected lists\n",
    "predicted = flatten(lin_reg.predict(X_test))\n",
    "expected = flatten(y_test.values)"
   ]
  },
  {
   "cell_type": "code",
   "execution_count": 16,
   "id": "b73dbdbd-2d0f-4db8-a686-95f8e9624df3",
   "metadata": {},
   "outputs": [
    {
     "data": {
      "application/vnd.plotly.v1+json": {
       "config": {
        "plotlyServerURL": "https://plot.ly"
       },
       "data": [
        {
         "hovertemplate": "expected=%{x}<br>predicted=%{y}<extra></extra>",
         "legendgroup": "",
         "marker": {
          "color": "#636efa",
          "symbol": "circle"
         },
         "mode": "markers",
         "name": "",
         "orientation": "v",
         "showlegend": false,
         "type": "scatter",
         "x": [
          17.8,
          21.5,
          21.2,
          32.4,
          10.9,
          31.7,
          21.4,
          24.3,
          29.1,
          25,
          20,
          22.2,
          20,
          24.8,
          25,
          10.4,
          18.7,
          24.4,
          13.1,
          13.1,
          37,
          26.6,
          50,
          23.3,
          13.3,
          18.6,
          7,
          19.4,
          17.8,
          31,
          17.7,
          20.8,
          21.9,
          15.4,
          23.1,
          19.6,
          27.5,
          37.9,
          31.2,
          28.7,
          18.8,
          23.2,
          28.2,
          19.3,
          13,
          13.8,
          44,
          29.4,
          7,
          22.5,
          23.6,
          33,
          13.8,
          12.8,
          23.9,
          8.5,
          35.1,
          48.5,
          12.7,
          17.1,
          20.6,
          11.5,
          10.2,
          21.8,
          25,
          21.4,
          26.4,
          20.3,
          28.5,
          22,
          17.5,
          12.7,
          44.8,
          18.5,
          18.3,
          19.4,
          17.4,
          36.5,
          42.8,
          13.2,
          21.7,
          24.3,
          21.7,
          37.2,
          12.5,
          21.2,
          12.7,
          24.7,
          22,
          5,
          19.1,
          27.1,
          22.9,
          10.4,
          18.5,
          23.1,
          50,
          18.5,
          13.4,
          21.6,
          22.5,
          15.3,
          24.7,
          10.8,
          22.4,
          23.3,
          20.5,
          22.2,
          15.2,
          23.1,
          50,
          19.6,
          43.8,
          29,
          23.5,
          20,
          23.9,
          46.7,
          5,
          20.8,
          50,
          21.7,
          24.1,
          24.4,
          28.7,
          35.4,
          23.1,
          18.1,
          23,
          20.3,
          17.1,
          23.2,
          16.7,
          20.4,
          17.6,
          24.4,
          33.3,
          22.8,
          13.1,
          13.5,
          19.8,
          18.9,
          20.1,
          43.5,
          23.4,
          26.6,
          25,
          21.9,
          41.7,
          24.8,
          19.9,
          27.5
         ],
         "xaxis": "x",
         "y": [
          17.566365069559275,
          25.05061851927914,
          20.873548373674925,
          36.281805409752934,
          15.676206558581335,
          32.67134129245029,
          18.975367056694235,
          24.893158167190045,
          30.694043345796246,
          21.545369952309436,
          23.108534332375807,
          21.133222031683015,
          17.291444847871446,
          26.014569234431217,
          29.29837763286305,
          8.445066476687792,
          21.06879894851003,
          23.258122835387933,
          16.461933188120334,
          19.14920174268018,
          30.345132124525957,
          27.62898733433318,
          36.22831444807912,
          26.62789783174488,
          16.127612060353947,
          23.031475659729676,
          -2.5637795863085984,
          17.041001981907762,
          18.3599653944828,
          34.27463134156478,
          18.910557384352412,
          18.151590276155183,
          16.581549085294625,
          14.8008578360772,
          20.292635302380088,
          19.04104098812497,
          20.49695971289063,
          34.07363529712278,
          28.06242889474946,
          27.964892397635623,
          20.746185439427542,
          16.418531393992915,
          33.16281342629179,
          22.18418270755306,
          16.67743361786357,
          13.096481644386017,
          37.50365961084339,
          30.796153289036127,
          9.000161346701653,
          17.90029936893121,
          30.675864002076395,
          21.562090171731967,
          16.659575224368496,
          12.208390188359886,
          27.674517370875808,
          15.81158409254958,
          35.31560437447363,
          42.02136636184468,
          15.164908416032851,
          20.106562038606864,
          16.122691706136656,
          13.873825396343157,
          19.13119462834254,
          21.07939763025828,
          26.957379363639,
          21.07833263267328,
          28.69591941559115,
          23.956238951461913,
          33.87666407933289,
          26.036810578707925,
          15.661057009703832,
          11.723984134088916,
          37.20472290025705,
          19.682725777171825,
          21.43869936247891,
          18.203672023994464,
          17.36894298490858,
          35.96165564878287,
          26.689086990797893,
          9.880639968444243,
          21.53361108314995,
          19.099643934594965,
          20.76573353373054,
          32.951505022116024,
          18.17053127956614,
          20.860831957084354,
          17.10604584403559,
          23.914414869266874,
          27.93762865162086,
          5.02761159110981,
          25.010783101255445,
          18.98080702709896,
          25.298335297524055,
          10.337711336306363,
          18.90712128886894,
          24.06219061662107,
          43.054078104529765,
          25.68249520968023,
          18.493617734194846,
          25.725099222494954,
          29.391650726087686,
          20.941519936345646,
          22.966843236582985,
          11.762935294177105,
          22.863420687348864,
          25.044349590075488,
          20.620396801826935,
          26.352866170726024,
          18.22446908119241,
          16.908557313248764,
          32.2330372869295,
          22.318891175615622,
          34.25175470150834,
          31.455909867542655,
          30.922353647299744,
          20.2886059821433,
          27.45325417674046,
          34.29695555612503,
          5.9233153003876,
          19.16171117225253,
          39.53084149586918,
          23.870055789702803,
          19.47918697421847,
          23.35463102919081,
          24.80157738215435,
          30.237718183287438,
          24.17283680364104,
          16.8382297752922,
          22.497588794957565,
          22.418645124503797,
          19.004806947627667,
          25.95791492194853,
          19.43716678407633,
          21.39283277743879,
          16.27965754211619,
          23.063349100235513,
          35.86559217589483,
          29.53447448891111,
          14.866820734550082,
          15.287439670903638,
          18.372965866802318,
          18.383921313794325,
          17.732980905524826,
          38.98327065762946,
          23.56278610006582,
          26.953752665700975,
          27.07515943720962,
          23.95546100018049,
          36.482590012596035,
          26.53839954704285,
          19.221914525826186,
          16.454920515283654
         ],
         "yaxis": "y"
        }
       ],
       "layout": {
        "legend": {
         "tracegroupgap": 0
        },
        "shapes": [
         {
          "line": {
           "color": "Red",
           "dash": "dot",
           "width": 4
          },
          "type": "line",
          "x0": 0,
          "x1": 50,
          "y0": 0,
          "y1": 50
         }
        ],
        "template": {
         "data": {
          "bar": [
           {
            "error_x": {
             "color": "#2a3f5f"
            },
            "error_y": {
             "color": "#2a3f5f"
            },
            "marker": {
             "line": {
              "color": "#E5ECF6",
              "width": 0.5
             },
             "pattern": {
              "fillmode": "overlay",
              "size": 10,
              "solidity": 0.2
             }
            },
            "type": "bar"
           }
          ],
          "barpolar": [
           {
            "marker": {
             "line": {
              "color": "#E5ECF6",
              "width": 0.5
             },
             "pattern": {
              "fillmode": "overlay",
              "size": 10,
              "solidity": 0.2
             }
            },
            "type": "barpolar"
           }
          ],
          "carpet": [
           {
            "aaxis": {
             "endlinecolor": "#2a3f5f",
             "gridcolor": "white",
             "linecolor": "white",
             "minorgridcolor": "white",
             "startlinecolor": "#2a3f5f"
            },
            "baxis": {
             "endlinecolor": "#2a3f5f",
             "gridcolor": "white",
             "linecolor": "white",
             "minorgridcolor": "white",
             "startlinecolor": "#2a3f5f"
            },
            "type": "carpet"
           }
          ],
          "choropleth": [
           {
            "colorbar": {
             "outlinewidth": 0,
             "ticks": ""
            },
            "type": "choropleth"
           }
          ],
          "contour": [
           {
            "colorbar": {
             "outlinewidth": 0,
             "ticks": ""
            },
            "colorscale": [
             [
              0,
              "#0d0887"
             ],
             [
              0.1111111111111111,
              "#46039f"
             ],
             [
              0.2222222222222222,
              "#7201a8"
             ],
             [
              0.3333333333333333,
              "#9c179e"
             ],
             [
              0.4444444444444444,
              "#bd3786"
             ],
             [
              0.5555555555555556,
              "#d8576b"
             ],
             [
              0.6666666666666666,
              "#ed7953"
             ],
             [
              0.7777777777777778,
              "#fb9f3a"
             ],
             [
              0.8888888888888888,
              "#fdca26"
             ],
             [
              1,
              "#f0f921"
             ]
            ],
            "type": "contour"
           }
          ],
          "contourcarpet": [
           {
            "colorbar": {
             "outlinewidth": 0,
             "ticks": ""
            },
            "type": "contourcarpet"
           }
          ],
          "heatmap": [
           {
            "colorbar": {
             "outlinewidth": 0,
             "ticks": ""
            },
            "colorscale": [
             [
              0,
              "#0d0887"
             ],
             [
              0.1111111111111111,
              "#46039f"
             ],
             [
              0.2222222222222222,
              "#7201a8"
             ],
             [
              0.3333333333333333,
              "#9c179e"
             ],
             [
              0.4444444444444444,
              "#bd3786"
             ],
             [
              0.5555555555555556,
              "#d8576b"
             ],
             [
              0.6666666666666666,
              "#ed7953"
             ],
             [
              0.7777777777777778,
              "#fb9f3a"
             ],
             [
              0.8888888888888888,
              "#fdca26"
             ],
             [
              1,
              "#f0f921"
             ]
            ],
            "type": "heatmap"
           }
          ],
          "heatmapgl": [
           {
            "colorbar": {
             "outlinewidth": 0,
             "ticks": ""
            },
            "colorscale": [
             [
              0,
              "#0d0887"
             ],
             [
              0.1111111111111111,
              "#46039f"
             ],
             [
              0.2222222222222222,
              "#7201a8"
             ],
             [
              0.3333333333333333,
              "#9c179e"
             ],
             [
              0.4444444444444444,
              "#bd3786"
             ],
             [
              0.5555555555555556,
              "#d8576b"
             ],
             [
              0.6666666666666666,
              "#ed7953"
             ],
             [
              0.7777777777777778,
              "#fb9f3a"
             ],
             [
              0.8888888888888888,
              "#fdca26"
             ],
             [
              1,
              "#f0f921"
             ]
            ],
            "type": "heatmapgl"
           }
          ],
          "histogram": [
           {
            "marker": {
             "pattern": {
              "fillmode": "overlay",
              "size": 10,
              "solidity": 0.2
             }
            },
            "type": "histogram"
           }
          ],
          "histogram2d": [
           {
            "colorbar": {
             "outlinewidth": 0,
             "ticks": ""
            },
            "colorscale": [
             [
              0,
              "#0d0887"
             ],
             [
              0.1111111111111111,
              "#46039f"
             ],
             [
              0.2222222222222222,
              "#7201a8"
             ],
             [
              0.3333333333333333,
              "#9c179e"
             ],
             [
              0.4444444444444444,
              "#bd3786"
             ],
             [
              0.5555555555555556,
              "#d8576b"
             ],
             [
              0.6666666666666666,
              "#ed7953"
             ],
             [
              0.7777777777777778,
              "#fb9f3a"
             ],
             [
              0.8888888888888888,
              "#fdca26"
             ],
             [
              1,
              "#f0f921"
             ]
            ],
            "type": "histogram2d"
           }
          ],
          "histogram2dcontour": [
           {
            "colorbar": {
             "outlinewidth": 0,
             "ticks": ""
            },
            "colorscale": [
             [
              0,
              "#0d0887"
             ],
             [
              0.1111111111111111,
              "#46039f"
             ],
             [
              0.2222222222222222,
              "#7201a8"
             ],
             [
              0.3333333333333333,
              "#9c179e"
             ],
             [
              0.4444444444444444,
              "#bd3786"
             ],
             [
              0.5555555555555556,
              "#d8576b"
             ],
             [
              0.6666666666666666,
              "#ed7953"
             ],
             [
              0.7777777777777778,
              "#fb9f3a"
             ],
             [
              0.8888888888888888,
              "#fdca26"
             ],
             [
              1,
              "#f0f921"
             ]
            ],
            "type": "histogram2dcontour"
           }
          ],
          "mesh3d": [
           {
            "colorbar": {
             "outlinewidth": 0,
             "ticks": ""
            },
            "type": "mesh3d"
           }
          ],
          "parcoords": [
           {
            "line": {
             "colorbar": {
              "outlinewidth": 0,
              "ticks": ""
             }
            },
            "type": "parcoords"
           }
          ],
          "pie": [
           {
            "automargin": true,
            "type": "pie"
           }
          ],
          "scatter": [
           {
            "marker": {
             "colorbar": {
              "outlinewidth": 0,
              "ticks": ""
             }
            },
            "type": "scatter"
           }
          ],
          "scatter3d": [
           {
            "line": {
             "colorbar": {
              "outlinewidth": 0,
              "ticks": ""
             }
            },
            "marker": {
             "colorbar": {
              "outlinewidth": 0,
              "ticks": ""
             }
            },
            "type": "scatter3d"
           }
          ],
          "scattercarpet": [
           {
            "marker": {
             "colorbar": {
              "outlinewidth": 0,
              "ticks": ""
             }
            },
            "type": "scattercarpet"
           }
          ],
          "scattergeo": [
           {
            "marker": {
             "colorbar": {
              "outlinewidth": 0,
              "ticks": ""
             }
            },
            "type": "scattergeo"
           }
          ],
          "scattergl": [
           {
            "marker": {
             "colorbar": {
              "outlinewidth": 0,
              "ticks": ""
             }
            },
            "type": "scattergl"
           }
          ],
          "scattermapbox": [
           {
            "marker": {
             "colorbar": {
              "outlinewidth": 0,
              "ticks": ""
             }
            },
            "type": "scattermapbox"
           }
          ],
          "scatterpolar": [
           {
            "marker": {
             "colorbar": {
              "outlinewidth": 0,
              "ticks": ""
             }
            },
            "type": "scatterpolar"
           }
          ],
          "scatterpolargl": [
           {
            "marker": {
             "colorbar": {
              "outlinewidth": 0,
              "ticks": ""
             }
            },
            "type": "scatterpolargl"
           }
          ],
          "scatterternary": [
           {
            "marker": {
             "colorbar": {
              "outlinewidth": 0,
              "ticks": ""
             }
            },
            "type": "scatterternary"
           }
          ],
          "surface": [
           {
            "colorbar": {
             "outlinewidth": 0,
             "ticks": ""
            },
            "colorscale": [
             [
              0,
              "#0d0887"
             ],
             [
              0.1111111111111111,
              "#46039f"
             ],
             [
              0.2222222222222222,
              "#7201a8"
             ],
             [
              0.3333333333333333,
              "#9c179e"
             ],
             [
              0.4444444444444444,
              "#bd3786"
             ],
             [
              0.5555555555555556,
              "#d8576b"
             ],
             [
              0.6666666666666666,
              "#ed7953"
             ],
             [
              0.7777777777777778,
              "#fb9f3a"
             ],
             [
              0.8888888888888888,
              "#fdca26"
             ],
             [
              1,
              "#f0f921"
             ]
            ],
            "type": "surface"
           }
          ],
          "table": [
           {
            "cells": {
             "fill": {
              "color": "#EBF0F8"
             },
             "line": {
              "color": "white"
             }
            },
            "header": {
             "fill": {
              "color": "#C8D4E3"
             },
             "line": {
              "color": "white"
             }
            },
            "type": "table"
           }
          ]
         },
         "layout": {
          "annotationdefaults": {
           "arrowcolor": "#2a3f5f",
           "arrowhead": 0,
           "arrowwidth": 1
          },
          "autotypenumbers": "strict",
          "coloraxis": {
           "colorbar": {
            "outlinewidth": 0,
            "ticks": ""
           }
          },
          "colorscale": {
           "diverging": [
            [
             0,
             "#8e0152"
            ],
            [
             0.1,
             "#c51b7d"
            ],
            [
             0.2,
             "#de77ae"
            ],
            [
             0.3,
             "#f1b6da"
            ],
            [
             0.4,
             "#fde0ef"
            ],
            [
             0.5,
             "#f7f7f7"
            ],
            [
             0.6,
             "#e6f5d0"
            ],
            [
             0.7,
             "#b8e186"
            ],
            [
             0.8,
             "#7fbc41"
            ],
            [
             0.9,
             "#4d9221"
            ],
            [
             1,
             "#276419"
            ]
           ],
           "sequential": [
            [
             0,
             "#0d0887"
            ],
            [
             0.1111111111111111,
             "#46039f"
            ],
            [
             0.2222222222222222,
             "#7201a8"
            ],
            [
             0.3333333333333333,
             "#9c179e"
            ],
            [
             0.4444444444444444,
             "#bd3786"
            ],
            [
             0.5555555555555556,
             "#d8576b"
            ],
            [
             0.6666666666666666,
             "#ed7953"
            ],
            [
             0.7777777777777778,
             "#fb9f3a"
            ],
            [
             0.8888888888888888,
             "#fdca26"
            ],
            [
             1,
             "#f0f921"
            ]
           ],
           "sequentialminus": [
            [
             0,
             "#0d0887"
            ],
            [
             0.1111111111111111,
             "#46039f"
            ],
            [
             0.2222222222222222,
             "#7201a8"
            ],
            [
             0.3333333333333333,
             "#9c179e"
            ],
            [
             0.4444444444444444,
             "#bd3786"
            ],
            [
             0.5555555555555556,
             "#d8576b"
            ],
            [
             0.6666666666666666,
             "#ed7953"
            ],
            [
             0.7777777777777778,
             "#fb9f3a"
            ],
            [
             0.8888888888888888,
             "#fdca26"
            ],
            [
             1,
             "#f0f921"
            ]
           ]
          },
          "colorway": [
           "#636efa",
           "#EF553B",
           "#00cc96",
           "#ab63fa",
           "#FFA15A",
           "#19d3f3",
           "#FF6692",
           "#B6E880",
           "#FF97FF",
           "#FECB52"
          ],
          "font": {
           "color": "#2a3f5f"
          },
          "geo": {
           "bgcolor": "white",
           "lakecolor": "white",
           "landcolor": "#E5ECF6",
           "showlakes": true,
           "showland": true,
           "subunitcolor": "white"
          },
          "hoverlabel": {
           "align": "left"
          },
          "hovermode": "closest",
          "mapbox": {
           "style": "light"
          },
          "paper_bgcolor": "white",
          "plot_bgcolor": "#E5ECF6",
          "polar": {
           "angularaxis": {
            "gridcolor": "white",
            "linecolor": "white",
            "ticks": ""
           },
           "bgcolor": "#E5ECF6",
           "radialaxis": {
            "gridcolor": "white",
            "linecolor": "white",
            "ticks": ""
           }
          },
          "scene": {
           "xaxis": {
            "backgroundcolor": "#E5ECF6",
            "gridcolor": "white",
            "gridwidth": 2,
            "linecolor": "white",
            "showbackground": true,
            "ticks": "",
            "zerolinecolor": "white"
           },
           "yaxis": {
            "backgroundcolor": "#E5ECF6",
            "gridcolor": "white",
            "gridwidth": 2,
            "linecolor": "white",
            "showbackground": true,
            "ticks": "",
            "zerolinecolor": "white"
           },
           "zaxis": {
            "backgroundcolor": "#E5ECF6",
            "gridcolor": "white",
            "gridwidth": 2,
            "linecolor": "white",
            "showbackground": true,
            "ticks": "",
            "zerolinecolor": "white"
           }
          },
          "shapedefaults": {
           "line": {
            "color": "#2a3f5f"
           }
          },
          "ternary": {
           "aaxis": {
            "gridcolor": "white",
            "linecolor": "white",
            "ticks": ""
           },
           "baxis": {
            "gridcolor": "white",
            "linecolor": "white",
            "ticks": ""
           },
           "bgcolor": "#E5ECF6",
           "caxis": {
            "gridcolor": "white",
            "linecolor": "white",
            "ticks": ""
           }
          },
          "title": {
           "x": 0.05
          },
          "xaxis": {
           "automargin": true,
           "gridcolor": "white",
           "linecolor": "white",
           "ticks": "",
           "title": {
            "standoff": 15
           },
           "zerolinecolor": "white",
           "zerolinewidth": 2
          },
          "yaxis": {
           "automargin": true,
           "gridcolor": "white",
           "linecolor": "white",
           "ticks": "",
           "title": {
            "standoff": 15
           },
           "zerolinecolor": "white",
           "zerolinewidth": 2
          }
         }
        },
        "title": {
         "text": "Predicted vs. Actual Values"
        },
        "xaxis": {
         "anchor": "y",
         "domain": [
          0,
          1
         ],
         "title": {
          "text": "expected"
         }
        },
        "yaxis": {
         "anchor": "x",
         "domain": [
          0,
          1
         ],
         "title": {
          "text": "predicted"
         }
        }
       }
      }
     },
     "metadata": {},
     "output_type": "display_data"
    }
   ],
   "source": [
    "%matplotlib inline\n",
    "# Import plotting package\n",
    "import plotly.express as px\n",
    "\n",
    "# Put data to plot in dataframe\n",
    "df_plot = pd.DataFrame({'expected':expected, 'predicted':predicted})\n",
    "\n",
    "# Make scatter plot from data\n",
    "fig = px.scatter(\n",
    "    df_plot, \n",
    "    x='expected', \n",
    "    y='predicted',\n",
    "    title='Predicted vs. Actual Values')\n",
    "\n",
    "# Add straight line indicating perfect model\n",
    "fig.add_shape(type=\"line\",\n",
    "    x0=0, y0=0, x1=50, y1=50,\n",
    "    line=dict(\n",
    "        color=\"Red\",\n",
    "        width=4,\n",
    "        dash=\"dot\",\n",
    "    )\n",
    ")\n",
    "\n",
    "# Show figure\n",
    "fig.show()"
   ]
  },
  {
   "cell_type": "code",
   "execution_count": 17,
   "id": "77e02f02-2e99-4670-8484-8eeaaaa69567",
   "metadata": {},
   "outputs": [
    {
     "name": "stdout",
     "output_type": "stream",
     "text": [
      "RMS: 4.6650 \n",
      "R2: 0.7495\n"
     ]
    }
   ],
   "source": [
    "# Print the root mean square error (RMS)\n",
    "error = np.sqrt(np.mean((np.array(predicted) - np.array(expected)) ** 2))\n",
    "print(f\"RMS: {error:.4f} \")\n",
    "\n",
    "r2=r2_score(expected, predicted)\n",
    "print(f\"R2: {round(r2,4)}\") "
   ]
  }
 ],
 "metadata": {
  "interpreter": {
   "hash": "39ee83a919181290c4d842af751c914fc9cc9875936341250fd1c581d67a8dbc"
  },
  "kernelspec": {
   "display_name": "Python 3.10.0 ('data_science_env')",
   "language": "python",
   "name": "python3"
  },
  "language_info": {
   "codemirror_mode": {
    "name": "ipython",
    "version": 3
   },
   "file_extension": ".py",
   "mimetype": "text/x-python",
   "name": "python",
   "nbconvert_exporter": "python",
   "pygments_lexer": "ipython3",
   "version": "3.10.0"
  }
 },
 "nbformat": 4,
 "nbformat_minor": 5
}
